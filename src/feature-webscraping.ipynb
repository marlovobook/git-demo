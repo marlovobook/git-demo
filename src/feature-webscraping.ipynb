{
 "cells": [
  {
   "cell_type": "code",
   "execution_count": 322,
   "id": "9d121115-6447-4e6b-83a9-f95323a98157",
   "metadata": {
    "tags": []
   },
   "outputs": [],
   "source": [
    "import pandas as pd\n",
    "import time\n",
    "from selenium import webdriver\n",
    "from webdriver_manager.chrome import ChromeDriverManager\n",
    "from selenium.webdriver.common.by import By\n",
    "from selenium.webdriver.chrome.service import Service\n",
    "from selenium.webdriver.chrome.options import Options\n",
    "from selenium.webdriver.support.ui import WebDriverWait\n",
    "from selenium.webdriver.support import expected_conditions as EC\n",
    "chrome_options = Options()"
   ]
  },
  {
   "cell_type": "code",
   "execution_count": 323,
   "id": "ad2c898b-05c3-4ab4-984f-07387d5c1a33",
   "metadata": {},
   "outputs": [],
   "source": [
    "\n",
    "website = 'https://propertyhub.in.th/%E0%B9%80%E0%B8%8A%E0%B9%88%E0%B8%B2%E0%B8%84%E0%B8%AD%E0%B8%99%E0%B9%82%E0%B8%94/bts-%E0%B8%AD%E0%B9%88%E0%B8%AD%E0%B8%99%E0%B8%99%E0%B8%B8%E0%B8%8A'\n",
    "webdriver_service = Service(ChromeDriverManager().install())\n",
    "driver = webdriver.Chrome(service = webdriver_service, options = chrome_options)\n",
    "driver.get(website)\n",
    "time.sleep(5)"
   ]
  },
  {
   "cell_type": "code",
   "execution_count": 324,
   "id": "7789d6a1-7582-4bc8-a82a-a962865b5c20",
   "metadata": {
    "tags": []
   },
   "outputs": [],
   "source": [
    "room_for_rent = []\n"
   ]
  },
  {
   "cell_type": "code",
   "execution_count": 325,
   "id": "ce3786fb-21d1-4fb3-9109-0f1efff1bac8",
   "metadata": {},
   "outputs": [],
   "source": [
    "for page_num in range(151):\n",
    "    # Wait for the rooms to load on the current page\n",
    "    wait = WebDriverWait(driver, 10)\n",
    "    rooms = wait.until(EC.presence_of_all_elements_located((By.XPATH, \"//div[contains(@class, 'sc-152o12i-12 iHtzLg')]\")))\n",
    "    \n",
    "    # Scrape the data for each room and append to the list\n",
    "    for room in rooms:\n",
    "        room_df = room.text\n",
    "        room_for_rent.append({'room_for_rent': room_df})\n",
    "    \n",
    "    # Click the next button to navigate to the next page\n",
    "    next_button = driver.find_element(By.XPATH, '//*[text()=\"ถัดไป\"]')\n",
    "    next_button.click()\n",
    "    time.sleep(2) #add abit sleep"
   ]
  },
  {
   "cell_type": "code",
   "execution_count": 326,
   "id": "c50854a2-c7a0-4cd3-9428-fa5feafb28a1",
   "metadata": {
    "tags": []
   },
   "outputs": [],
   "source": [
    "#Test\n",
    "#for room in rooms:\n",
    "    #room.text"
   ]
  },
  {
   "cell_type": "code",
   "execution_count": 327,
   "id": "fb5570a5-9b2d-49db-80c3-cdcaae09cc82",
   "metadata": {
    "tags": []
   },
   "outputs": [],
   "source": [
    "df = pd.DataFrame({'room_for_rent': room_for_rent})\n"
   ]
  },
  {
   "cell_type": "code",
   "execution_count": 328,
   "id": "968c5cc2-78f5-4e4d-b359-9cf0b41b1393",
   "metadata": {
    "tags": []
   },
   "outputs": [],
   "source": [
    "df.to_csv('CondoOnnuch_WebScraping1.csv', index=False, encoding=\"utf-8-sig\") #utf-8-sig for reading Thai Alphabet\n",
    "#the exported data will be a sigle column, which will be splited in Power Quary as it is easier"
   ]
  }
 ],
 "metadata": {
  "kernelspec": {
   "display_name": "Python 3 (ipykernel)",
   "language": "python",
   "name": "python3"
  },
  "language_info": {
   "codemirror_mode": {
    "name": "ipython",
    "version": 3
   },
   "file_extension": ".py",
   "mimetype": "text/x-python",
   "name": "python",
   "nbconvert_exporter": "python",
   "pygments_lexer": "ipython3",
   "version": "3.11.1"
  }
 },
 "nbformat": 4,
 "nbformat_minor": 5
}
